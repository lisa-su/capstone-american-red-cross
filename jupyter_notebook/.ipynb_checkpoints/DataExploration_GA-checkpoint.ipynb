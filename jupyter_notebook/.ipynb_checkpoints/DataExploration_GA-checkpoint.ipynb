{
 "cells": [
  {
   "cell_type": "code",
   "execution_count": 1,
   "metadata": {
    "collapsed": false
   },
   "outputs": [],
   "source": [
    "import pandas as pd\n",
    "import matplotlib.pyplot as plt\n",
    "from datetime import datetime\n",
    "%matplotlib inline  "
   ]
  },
  {
   "cell_type": "code",
   "execution_count": 2,
   "metadata": {
    "collapsed": true
   },
   "outputs": [],
   "source": [
    "def calc_donation_lapse(df):\n",
    "\n",
    "    df_sort = df.sort_values(by=['arc_id', 'donation_dt'])\n",
    "    \n",
    "    last_arc_id = None\n",
    "    donate_times = 1\n",
    "    last_date = None\n",
    "\n",
    "    dt_format = '%Y-%m-%d'\n",
    "    for i, row in df_sort.iterrows():\n",
    "\n",
    "        this_arc_id = row['arc_id']\n",
    "        this_dt = datetime.strptime(row['donation_dt'], dt_format)\n",
    "\n",
    "        if this_arc_id != last_arc_id:\n",
    "            donate_times = 1\n",
    "            df_sort.set_value(i, 'donate_times', donate_times)\n",
    "            df_sort.set_value(i, 'lag_in_days', 0)\n",
    "\n",
    "        else:\n",
    "            donate_times += 1\n",
    "            df_sort.set_value(i, 'donate_times', donate_times)\n",
    "            df_sort.set_value(i, 'lag_in_days', (this_dt - last_dt).days)\n",
    "\n",
    "        last_arc_id = this_arc_id\n",
    "        last_dt = this_dt\n",
    "        \n",
    "    return df_sort"
   ]
  },
  {
   "cell_type": "markdown",
   "metadata": {
    "collapsed": true
   },
   "source": [
    "Import the dataset"
   ]
  },
  {
   "cell_type": "code",
   "execution_count": 3,
   "metadata": {
    "collapsed": false
   },
   "outputs": [
    {
     "name": "stderr",
     "output_type": "stream",
     "text": [
      "/Users/lisa/anaconda3/envs/arc-capstone/lib/python3.5/site-packages/IPython/core/interactiveshell.py:2723: DtypeWarning: Columns (89,90) have mixed types. Specify dtype option on import or set low_memory=False.\n",
      "  interactivity=interactivity, compiler=compiler, result=result)\n"
     ]
    }
   ],
   "source": [
    "# Directory and file names\n",
    "pname = '../data/'\n",
    "fname = 'ga95d.csv'\n",
    "\n",
    "data = pd.read_csv(pname+fname, index_col=0)"
   ]
  },
  {
   "cell_type": "code",
   "execution_count": 4,
   "metadata": {
    "collapsed": false
   },
   "outputs": [
    {
     "data": {
      "text/html": [
       "<div>\n",
       "<table border=\"1\" class=\"dataframe\">\n",
       "  <thead>\n",
       "    <tr style=\"text-align: right;\">\n",
       "      <th></th>\n",
       "      <th>X</th>\n",
       "      <th>arc_id</th>\n",
       "      <th>freq</th>\n",
       "      <th>bzd_assessedhomevalue</th>\n",
       "      <th>bzd_avg_bank_credit6</th>\n",
       "      <th>bzd_avg_inq_all12</th>\n",
       "      <th>bzd_avg_maxcred_install6</th>\n",
       "      <th>bzd_avg_mos_autopay</th>\n",
       "      <th>bzd_avg_numauto12</th>\n",
       "      <th>bzd_descretionary_spend</th>\n",
       "      <th>...</th>\n",
       "      <th>blood_pressure_systolic</th>\n",
       "      <th>blood_pressure_diastolic</th>\n",
       "      <th>bps</th>\n",
       "      <th>bpd</th>\n",
       "      <th>type</th>\n",
       "      <th>age_at_donation</th>\n",
       "      <th>bloodtype</th>\n",
       "      <th>fdd</th>\n",
       "      <th>age_at_first_donation</th>\n",
       "      <th>yearff</th>\n",
       "    </tr>\n",
       "  </thead>\n",
       "  <tbody>\n",
       "    <tr>\n",
       "      <th>1</th>\n",
       "      <td>558</td>\n",
       "      <td>11519</td>\n",
       "      <td>1</td>\n",
       "      <td>140283.0</td>\n",
       "      <td>2950.00</td>\n",
       "      <td>1.83</td>\n",
       "      <td>25827.00</td>\n",
       "      <td>697.50</td>\n",
       "      <td>0.800</td>\n",
       "      <td>9112.0</td>\n",
       "      <td>...</td>\n",
       "      <td>NaN</td>\n",
       "      <td>NaN</td>\n",
       "      <td>NaN</td>\n",
       "      <td>NaN</td>\n",
       "      <td>5</td>\n",
       "      <td>24.158904</td>\n",
       "      <td>11</td>\n",
       "      <td>2004-08-19</td>\n",
       "      <td>24.158904</td>\n",
       "      <td>2004</td>\n",
       "    </tr>\n",
       "    <tr>\n",
       "      <th>2</th>\n",
       "      <td>604</td>\n",
       "      <td>12682</td>\n",
       "      <td>3</td>\n",
       "      <td>265094.0</td>\n",
       "      <td>16224.17</td>\n",
       "      <td>1.00</td>\n",
       "      <td>24174.95</td>\n",
       "      <td>606.94</td>\n",
       "      <td>0.387</td>\n",
       "      <td>24525.0</td>\n",
       "      <td>...</td>\n",
       "      <td>NaN</td>\n",
       "      <td>NaN</td>\n",
       "      <td>NaN</td>\n",
       "      <td>NaN</td>\n",
       "      <td>5</td>\n",
       "      <td>20.597260</td>\n",
       "      <td>6</td>\n",
       "      <td>1999-02-19</td>\n",
       "      <td>20.597260</td>\n",
       "      <td>1999</td>\n",
       "    </tr>\n",
       "    <tr>\n",
       "      <th>3</th>\n",
       "      <td>604</td>\n",
       "      <td>12682</td>\n",
       "      <td>3</td>\n",
       "      <td>265094.0</td>\n",
       "      <td>16224.17</td>\n",
       "      <td>1.00</td>\n",
       "      <td>24174.95</td>\n",
       "      <td>606.94</td>\n",
       "      <td>0.387</td>\n",
       "      <td>24525.0</td>\n",
       "      <td>...</td>\n",
       "      <td>NaN</td>\n",
       "      <td>NaN</td>\n",
       "      <td>NaN</td>\n",
       "      <td>NaN</td>\n",
       "      <td>5</td>\n",
       "      <td>21.306849</td>\n",
       "      <td>6</td>\n",
       "      <td>1999-02-19</td>\n",
       "      <td>20.597260</td>\n",
       "      <td>1999</td>\n",
       "    </tr>\n",
       "  </tbody>\n",
       "</table>\n",
       "<p>3 rows × 120 columns</p>\n",
       "</div>"
      ],
      "text/plain": [
       "     X  arc_id  freq  bzd_assessedhomevalue  bzd_avg_bank_credit6  \\\n",
       "1  558   11519     1               140283.0               2950.00   \n",
       "2  604   12682     3               265094.0              16224.17   \n",
       "3  604   12682     3               265094.0              16224.17   \n",
       "\n",
       "   bzd_avg_inq_all12  bzd_avg_maxcred_install6  bzd_avg_mos_autopay  \\\n",
       "1               1.83                  25827.00               697.50   \n",
       "2               1.00                  24174.95               606.94   \n",
       "3               1.00                  24174.95               606.94   \n",
       "\n",
       "   bzd_avg_numauto12  bzd_descretionary_spend   ...    \\\n",
       "1              0.800                   9112.0   ...     \n",
       "2              0.387                  24525.0   ...     \n",
       "3              0.387                  24525.0   ...     \n",
       "\n",
       "   blood_pressure_systolic  blood_pressure_diastolic  bps  bpd  type  \\\n",
       "1                      NaN                       NaN  NaN  NaN     5   \n",
       "2                      NaN                       NaN  NaN  NaN     5   \n",
       "3                      NaN                       NaN  NaN  NaN     5   \n",
       "\n",
       "   age_at_donation  bloodtype         fdd  age_at_first_donation  yearff  \n",
       "1        24.158904         11  2004-08-19              24.158904    2004  \n",
       "2        20.597260          6  1999-02-19              20.597260    1999  \n",
       "3        21.306849          6  1999-02-19              20.597260    1999  \n",
       "\n",
       "[3 rows x 120 columns]"
      ]
     },
     "execution_count": 4,
     "metadata": {},
     "output_type": "execute_result"
    }
   ],
   "source": [
    "data.head(3)"
   ]
  },
  {
   "cell_type": "code",
   "execution_count": 5,
   "metadata": {
    "collapsed": true
   },
   "outputs": [],
   "source": [
    "c_names = data.columns"
   ]
  },
  {
   "cell_type": "code",
   "execution_count": 6,
   "metadata": {
    "collapsed": false
   },
   "outputs": [],
   "source": [
    "missing_val_cnt = pd.Series(data=[data.shape[0]-data[c].dropna().shape[0] for c in c_names], index=c_names, dtype=int)\n",
    "missing_val_pct = pd.Series(data=[(data.shape[0]-data[c].dropna().shape[0])/data.shape[0] for c in c_names], index=c_names)"
   ]
  },
  {
   "cell_type": "code",
   "execution_count": 7,
   "metadata": {
    "collapsed": false
   },
   "outputs": [],
   "source": [
    "missing_val_stats = pd.DataFrame([missing_val_cnt, missing_val_pct], index=['count', 'percentage']).transpose()"
   ]
  },
  {
   "cell_type": "code",
   "execution_count": 8,
   "metadata": {
    "collapsed": false
   },
   "outputs": [
    {
     "data": {
      "text/html": [
       "<div>\n",
       "<table border=\"1\" class=\"dataframe\">\n",
       "  <thead>\n",
       "    <tr style=\"text-align: right;\">\n",
       "      <th></th>\n",
       "      <th>count</th>\n",
       "      <th>percentage</th>\n",
       "    </tr>\n",
       "  </thead>\n",
       "  <tbody>\n",
       "    <tr>\n",
       "      <th>X</th>\n",
       "      <td>0.0</td>\n",
       "      <td>0.000000</td>\n",
       "    </tr>\n",
       "    <tr>\n",
       "      <th>arc_id</th>\n",
       "      <td>0.0</td>\n",
       "      <td>0.000000</td>\n",
       "    </tr>\n",
       "    <tr>\n",
       "      <th>freq</th>\n",
       "      <td>0.0</td>\n",
       "      <td>0.000000</td>\n",
       "    </tr>\n",
       "    <tr>\n",
       "      <th>bzd_avg_bank_credit6</th>\n",
       "      <td>165033.0</td>\n",
       "      <td>0.365433</td>\n",
       "    </tr>\n",
       "    <tr>\n",
       "      <th>bzd_avg_inq_all12</th>\n",
       "      <td>165033.0</td>\n",
       "      <td>0.365433</td>\n",
       "    </tr>\n",
       "    <tr>\n",
       "      <th>bzd_avg_maxcred_install6</th>\n",
       "      <td>165033.0</td>\n",
       "      <td>0.365433</td>\n",
       "    </tr>\n",
       "    <tr>\n",
       "      <th>bzd_avg_mos_autopay</th>\n",
       "      <td>165033.0</td>\n",
       "      <td>0.365433</td>\n",
       "    </tr>\n",
       "    <tr>\n",
       "      <th>bzd_avg_numauto12</th>\n",
       "      <td>165033.0</td>\n",
       "      <td>0.365433</td>\n",
       "    </tr>\n",
       "    <tr>\n",
       "      <th>blood_type</th>\n",
       "      <td>0.0</td>\n",
       "      <td>0.000000</td>\n",
       "    </tr>\n",
       "    <tr>\n",
       "      <th>no_show_cnt</th>\n",
       "      <td>0.0</td>\n",
       "      <td>0.000000</td>\n",
       "    </tr>\n",
       "    <tr>\n",
       "      <th>birth_dt</th>\n",
       "      <td>0.0</td>\n",
       "      <td>0.000000</td>\n",
       "    </tr>\n",
       "    <tr>\n",
       "      <th>zip5</th>\n",
       "      <td>1.0</td>\n",
       "      <td>0.000002</td>\n",
       "    </tr>\n",
       "    <tr>\n",
       "      <th>zip4</th>\n",
       "      <td>4440.0</td>\n",
       "      <td>0.009831</td>\n",
       "    </tr>\n",
       "    <tr>\n",
       "      <th>zip5c</th>\n",
       "      <td>1.0</td>\n",
       "      <td>0.000002</td>\n",
       "    </tr>\n",
       "    <tr>\n",
       "      <th>donation_dt</th>\n",
       "      <td>0.0</td>\n",
       "      <td>0.000000</td>\n",
       "    </tr>\n",
       "    <tr>\n",
       "      <th>appt_ind</th>\n",
       "      <td>0.0</td>\n",
       "      <td>0.000000</td>\n",
       "    </tr>\n",
       "    <tr>\n",
       "      <th>walk_in_ind</th>\n",
       "      <td>0.0</td>\n",
       "      <td>0.000000</td>\n",
       "    </tr>\n",
       "    <tr>\n",
       "      <th>prodctv_proc_ind</th>\n",
       "      <td>0.0</td>\n",
       "      <td>0.000000</td>\n",
       "    </tr>\n",
       "    <tr>\n",
       "      <th>first_donat_ind</th>\n",
       "      <td>0.0</td>\n",
       "      <td>0.000000</td>\n",
       "    </tr>\n",
       "    <tr>\n",
       "      <th>deferral_ind</th>\n",
       "      <td>0.0</td>\n",
       "      <td>0.000000</td>\n",
       "    </tr>\n",
       "    <tr>\n",
       "      <th>donation_ind</th>\n",
       "      <td>0.0</td>\n",
       "      <td>0.000000</td>\n",
       "    </tr>\n",
       "    <tr>\n",
       "      <th>sponsor_name</th>\n",
       "      <td>1.0</td>\n",
       "      <td>0.000002</td>\n",
       "    </tr>\n",
       "    <tr>\n",
       "      <th>site_zip</th>\n",
       "      <td>0.0</td>\n",
       "      <td>0.000000</td>\n",
       "    </tr>\n",
       "    <tr>\n",
       "      <th>donation_type</th>\n",
       "      <td>0.0</td>\n",
       "      <td>0.000000</td>\n",
       "    </tr>\n",
       "    <tr>\n",
       "      <th>donation_dt2</th>\n",
       "      <td>0.0</td>\n",
       "      <td>0.000000</td>\n",
       "    </tr>\n",
       "    <tr>\n",
       "      <th>year</th>\n",
       "      <td>0.0</td>\n",
       "      <td>0.000000</td>\n",
       "    </tr>\n",
       "    <tr>\n",
       "      <th>month</th>\n",
       "      <td>0.0</td>\n",
       "      <td>0.000000</td>\n",
       "    </tr>\n",
       "    <tr>\n",
       "      <th>type</th>\n",
       "      <td>0.0</td>\n",
       "      <td>0.000000</td>\n",
       "    </tr>\n",
       "    <tr>\n",
       "      <th>age_at_donation</th>\n",
       "      <td>0.0</td>\n",
       "      <td>0.000000</td>\n",
       "    </tr>\n",
       "    <tr>\n",
       "      <th>bloodtype</th>\n",
       "      <td>0.0</td>\n",
       "      <td>0.000000</td>\n",
       "    </tr>\n",
       "    <tr>\n",
       "      <th>fdd</th>\n",
       "      <td>0.0</td>\n",
       "      <td>0.000000</td>\n",
       "    </tr>\n",
       "    <tr>\n",
       "      <th>age_at_first_donation</th>\n",
       "      <td>0.0</td>\n",
       "      <td>0.000000</td>\n",
       "    </tr>\n",
       "    <tr>\n",
       "      <th>yearff</th>\n",
       "      <td>0.0</td>\n",
       "      <td>0.000000</td>\n",
       "    </tr>\n",
       "  </tbody>\n",
       "</table>\n",
       "</div>"
      ],
      "text/plain": [
       "                             count  percentage\n",
       "X                              0.0    0.000000\n",
       "arc_id                         0.0    0.000000\n",
       "freq                           0.0    0.000000\n",
       "bzd_avg_bank_credit6      165033.0    0.365433\n",
       "bzd_avg_inq_all12         165033.0    0.365433\n",
       "bzd_avg_maxcred_install6  165033.0    0.365433\n",
       "bzd_avg_mos_autopay       165033.0    0.365433\n",
       "bzd_avg_numauto12         165033.0    0.365433\n",
       "blood_type                     0.0    0.000000\n",
       "no_show_cnt                    0.0    0.000000\n",
       "birth_dt                       0.0    0.000000\n",
       "zip5                           1.0    0.000002\n",
       "zip4                        4440.0    0.009831\n",
       "zip5c                          1.0    0.000002\n",
       "donation_dt                    0.0    0.000000\n",
       "appt_ind                       0.0    0.000000\n",
       "walk_in_ind                    0.0    0.000000\n",
       "prodctv_proc_ind               0.0    0.000000\n",
       "first_donat_ind                0.0    0.000000\n",
       "deferral_ind                   0.0    0.000000\n",
       "donation_ind                   0.0    0.000000\n",
       "sponsor_name                   1.0    0.000002\n",
       "site_zip                       0.0    0.000000\n",
       "donation_type                  0.0    0.000000\n",
       "donation_dt2                   0.0    0.000000\n",
       "year                           0.0    0.000000\n",
       "month                          0.0    0.000000\n",
       "type                           0.0    0.000000\n",
       "age_at_donation                0.0    0.000000\n",
       "bloodtype                      0.0    0.000000\n",
       "fdd                            0.0    0.000000\n",
       "age_at_first_donation          0.0    0.000000\n",
       "yearff                         0.0    0.000000"
      ]
     },
     "execution_count": 8,
     "metadata": {},
     "output_type": "execute_result"
    }
   ],
   "source": [
    "# columns that has less than 50% missing values\n",
    "missing_val_stats[missing_val_stats['percentage']<0.5]"
   ]
  },
  {
   "cell_type": "code",
   "execution_count": 9,
   "metadata": {
    "collapsed": false
   },
   "outputs": [
    {
     "data": {
      "text/html": [
       "<div>\n",
       "<table border=\"1\" class=\"dataframe\">\n",
       "  <thead>\n",
       "    <tr style=\"text-align: right;\">\n",
       "      <th></th>\n",
       "      <th>donation_type</th>\n",
       "    </tr>\n",
       "  </thead>\n",
       "  <tbody>\n",
       "    <tr>\n",
       "      <th>1</th>\n",
       "      <td>Whole blood</td>\n",
       "    </tr>\n",
       "    <tr>\n",
       "      <th>51</th>\n",
       "      <td>Plateletpheresis</td>\n",
       "    </tr>\n",
       "    <tr>\n",
       "      <th>89</th>\n",
       "      <td>Red Cell Apheresis</td>\n",
       "    </tr>\n",
       "    <tr>\n",
       "      <th>37104</th>\n",
       "      <td>Plasmapheresis</td>\n",
       "    </tr>\n",
       "  </tbody>\n",
       "</table>\n",
       "</div>"
      ],
      "text/plain": [
       "            donation_type\n",
       "1             Whole blood\n",
       "51       Plateletpheresis\n",
       "89     Red Cell Apheresis\n",
       "37104      Plasmapheresis"
      ]
     },
     "execution_count": 9,
     "metadata": {},
     "output_type": "execute_result"
    }
   ],
   "source": [
    "data[['donation_type']].drop_duplicates()"
   ]
  },
  {
   "cell_type": "code",
   "execution_count": 10,
   "metadata": {
    "collapsed": true
   },
   "outputs": [],
   "source": [
    "data_with_lapse = calc_donation_lapse(data)"
   ]
  },
  {
   "cell_type": "code",
   "execution_count": 11,
   "metadata": {
    "collapsed": false
   },
   "outputs": [
    {
     "data": {
      "text/html": [
       "<div>\n",
       "<table border=\"1\" class=\"dataframe\">\n",
       "  <thead>\n",
       "    <tr style=\"text-align: right;\">\n",
       "      <th></th>\n",
       "      <th>arc_id</th>\n",
       "      <th>donation_dt</th>\n",
       "      <th>donate_times</th>\n",
       "      <th>lag_in_days</th>\n",
       "    </tr>\n",
       "  </thead>\n",
       "  <tbody>\n",
       "    <tr>\n",
       "      <th>1</th>\n",
       "      <td>11519</td>\n",
       "      <td>2004-08-19</td>\n",
       "      <td>1.0</td>\n",
       "      <td>0.0</td>\n",
       "    </tr>\n",
       "    <tr>\n",
       "      <th>2</th>\n",
       "      <td>12682</td>\n",
       "      <td>1999-02-19</td>\n",
       "      <td>1.0</td>\n",
       "      <td>0.0</td>\n",
       "    </tr>\n",
       "    <tr>\n",
       "      <th>3</th>\n",
       "      <td>12682</td>\n",
       "      <td>1999-11-05</td>\n",
       "      <td>2.0</td>\n",
       "      <td>259.0</td>\n",
       "    </tr>\n",
       "    <tr>\n",
       "      <th>6</th>\n",
       "      <td>16964</td>\n",
       "      <td>1989-12-08</td>\n",
       "      <td>1.0</td>\n",
       "      <td>0.0</td>\n",
       "    </tr>\n",
       "    <tr>\n",
       "      <th>7</th>\n",
       "      <td>16964</td>\n",
       "      <td>1993-08-16</td>\n",
       "      <td>2.0</td>\n",
       "      <td>1347.0</td>\n",
       "    </tr>\n",
       "    <tr>\n",
       "      <th>10</th>\n",
       "      <td>16964</td>\n",
       "      <td>1993-11-11</td>\n",
       "      <td>3.0</td>\n",
       "      <td>87.0</td>\n",
       "    </tr>\n",
       "    <tr>\n",
       "      <th>11</th>\n",
       "      <td>16964</td>\n",
       "      <td>1994-04-19</td>\n",
       "      <td>4.0</td>\n",
       "      <td>159.0</td>\n",
       "    </tr>\n",
       "    <tr>\n",
       "      <th>15</th>\n",
       "      <td>16964</td>\n",
       "      <td>1995-10-06</td>\n",
       "      <td>5.0</td>\n",
       "      <td>535.0</td>\n",
       "    </tr>\n",
       "    <tr>\n",
       "      <th>5</th>\n",
       "      <td>16964</td>\n",
       "      <td>1996-05-07</td>\n",
       "      <td>6.0</td>\n",
       "      <td>214.0</td>\n",
       "    </tr>\n",
       "    <tr>\n",
       "      <th>12</th>\n",
       "      <td>16964</td>\n",
       "      <td>1997-02-20</td>\n",
       "      <td>7.0</td>\n",
       "      <td>289.0</td>\n",
       "    </tr>\n",
       "  </tbody>\n",
       "</table>\n",
       "</div>"
      ],
      "text/plain": [
       "    arc_id donation_dt  donate_times  lag_in_days\n",
       "1    11519  2004-08-19           1.0          0.0\n",
       "2    12682  1999-02-19           1.0          0.0\n",
       "3    12682  1999-11-05           2.0        259.0\n",
       "6    16964  1989-12-08           1.0          0.0\n",
       "7    16964  1993-08-16           2.0       1347.0\n",
       "10   16964  1993-11-11           3.0         87.0\n",
       "11   16964  1994-04-19           4.0        159.0\n",
       "15   16964  1995-10-06           5.0        535.0\n",
       "5    16964  1996-05-07           6.0        214.0\n",
       "12   16964  1997-02-20           7.0        289.0"
      ]
     },
     "execution_count": 11,
     "metadata": {},
     "output_type": "execute_result"
    }
   ],
   "source": [
    "data_with_lapse[['arc_id', 'donation_dt', 'donate_times', 'lag_in_days']].head(10)"
   ]
  },
  {
   "cell_type": "code",
   "execution_count": 12,
   "metadata": {
    "collapsed": false
   },
   "outputs": [],
   "source": [
    "lapse_all = pd.Series(map(lambda x: x/365, data_with_lapse[data_with_lapse['lag_in_days']!=0]['lag_in_days']))"
   ]
  },
  {
   "cell_type": "code",
   "execution_count": 13,
   "metadata": {
    "collapsed": false
   },
   "outputs": [
    {
     "data": {
      "text/plain": [
       "<matplotlib.axes._subplots.AxesSubplot at 0x115143080>"
      ]
     },
     "execution_count": 13,
     "metadata": {},
     "output_type": "execute_result"
    },
    {
     "data": {
      "image/png": "[encoded data removed]",
      "text/plain": [
       "<matplotlib.figure.Figure at 0x115143588>"
      ]
     },
     "metadata": {},
     "output_type": "display_data"
    }
   ],
   "source": [
    "# Histogram for all time differece between donations\n",
    "axes = plt.gca()\n",
    "axes.set_xlim([0,10])\n",
    "plt.xticks([v*0.5 for v in range(0,21)])\n",
    "plt.ylabel('Counts')\n",
    "plt.xlabel('Years')\n",
    "lapse_all.hist(bins=300)"
   ]
  },
  {
   "cell_type": "code",
   "execution_count": 14,
   "metadata": {
    "collapsed": false
   },
   "outputs": [],
   "source": [
    "lapse_1_2 = pd.Series(map(lambda x: x/365, data_with_lapse[data_with_lapse['donate_times']==2]['lag_in_days']))"
   ]
  },
  {
   "cell_type": "code",
   "execution_count": 15,
   "metadata": {
    "collapsed": false
   },
   "outputs": [
    {
     "data": {
      "text/plain": [
       "<matplotlib.axes._subplots.AxesSubplot at 0x10faa8208>"
      ]
     },
     "execution_count": 15,
     "metadata": {},
     "output_type": "execute_result"
    },
    {
     "data": {
      "image/png": "[encoded data removed]",
      "text/plain": [
       "<matplotlib.figure.Figure at 0x10faa0ba8>"
      ]
     },
     "metadata": {},
     "output_type": "display_data"
    }
   ],
   "source": [
    "# Histogram for all time differece between first and second donations\n",
    "axes = plt.gca();\n",
    "axes.set_xlim([0,10]);\n",
    "plt.xticks([v*0.5 for v in range(0,21)])\n",
    "plt.ylabel('Counts')\n",
    "plt.xlabel('Years')\n",
    "lapse_1_2.hist(bins=300)"
   ]
  },
  {
   "cell_type": "markdown",
   "metadata": {},
   "source": [
    "By the histograms, we can assume that it has higher possibility to retain the donors if they came back to donate within 1 year."
   ]
  },
  {
   "cell_type": "code",
   "execution_count": 16,
   "metadata": {
    "collapsed": false
   },
   "outputs": [],
   "source": [
    "freq_data = data_with_lapse[['arc_id','freq']].drop_duplicates()\n",
    "delta_data = data_with_lapse[data_with_lapse['donate_times'] == 2][['arc_id', 'lag_in_days']]\n",
    "freq_vs_delta = pd.merge(freq_data, delta_data, how='left', left_on='arc_id', right_on='arc_id')\n",
    "freq_vs_delta.fillna(value=0)\n",
    "freq_vs_delta['year_since_last_donation'] = freq_vs_delta['lag_in_days']/365"
   ]
  },
  {
   "cell_type": "code",
   "execution_count": 17,
   "metadata": {
    "collapsed": false
   },
   "outputs": [
    {
     "data": {
      "text/plain": [
       "<matplotlib.figure.Figure at 0x10faa66a0>"
      ]
     },
     "metadata": {},
     "output_type": "display_data"
    },
    {
     "data": {
      "image/png": "[encoded data removed]",
      "text/plain": [
       "<matplotlib.figure.Figure at 0x1124b95f8>"
      ]
     },
     "metadata": {},
     "output_type": "display_data"
    }
   ],
   "source": [
    "# Scatter plot for repeat donors\n",
    "plt.figure()\n",
    "freq_vs_delta[freq_vs_delta['freq'] > 1].sample(1000).plot.scatter(x='freq', y='year_since_last_donation')\n",
    "plt.xlabel('Counts of Donations')\n",
    "plt.ylabel('Years Between 1st and 2nd Donations')\n",
    "plt.show()"
   ]
  },
  {
   "cell_type": "markdown",
   "metadata": {},
   "source": [
    "----------------------------"
   ]
  },
  {
   "cell_type": "markdown",
   "metadata": {},
   "source": [
    "# Whole Blood Donors"
   ]
  },
  {
   "cell_type": "code",
   "execution_count": 18,
   "metadata": {
    "collapsed": false
   },
   "outputs": [],
   "source": [
    "whole_data = data[data['donation_type'] == 'Whole blood']"
   ]
  },
  {
   "cell_type": "code",
   "execution_count": 19,
   "metadata": {
    "collapsed": false,
    "scrolled": false
   },
   "outputs": [],
   "source": [
    "whole_data_with_lapse = calc_donation_lapse(whole_data)"
   ]
  },
  {
   "cell_type": "code",
   "execution_count": 20,
   "metadata": {
    "collapsed": false
   },
   "outputs": [],
   "source": [
    "whole_lapse = pd.Series(map(lambda x: x/56, \n",
    "                            whole_data_with_lapse[whole_data_with_lapse['lag_in_days']!=0]['lag_in_days']))"
   ]
  },
  {
   "cell_type": "code",
   "execution_count": 21,
   "metadata": {
    "collapsed": false
   },
   "outputs": [],
   "source": [
    "whole_lapse_1_2 = pd.Series(map(lambda x: x/56, \n",
    "                                whole_data_with_lapse[whole_data_with_lapse['donate_times']==2]['lag_in_days']))"
   ]
  },
  {
   "cell_type": "code",
   "execution_count": 22,
   "metadata": {
    "collapsed": true
   },
   "outputs": [],
   "source": [
    "whole_lapse_gt_2 = pd.Series(map(lambda x: x/56, \n",
    "                                 whole_data_with_lapse[whole_data_with_lapse['donate_times']>=2]['lag_in_days']))"
   ]
  },
  {
   "cell_type": "code",
   "execution_count": 23,
   "metadata": {
    "collapsed": false
   },
   "outputs": [
    {
     "data": {
      "text/plain": [
       "<matplotlib.axes._subplots.AxesSubplot at 0x10e348a20>"
      ]
     },
     "execution_count": 23,
     "metadata": {},
     "output_type": "execute_result"
    },
    {
     "data": {
      "image/png": "[encoded data removed]",
      "text/plain": [
       "<matplotlib.figure.Figure at 0x112491e48>"
      ]
     },
     "metadata": {},
     "output_type": "display_data"
    }
   ],
   "source": [
    "# Histogram for time lapse between donations\n",
    "plt.figure(1, figsize=(15, 5))\n",
    "plt.subplot(131)\n",
    "axes = plt.gca()\n",
    "axes.set_xlim([0,20])\n",
    "plt.xticks(range(21))\n",
    "plt.ylabel('Counts')\n",
    "plt.xlabel('Cycles(56 days/cycle)')\n",
    "whole_lapse.hist(bins=180)\n",
    "\n",
    "# Histogram for time lapse between 1st and 2nd donations\n",
    "plt.subplot(132)\n",
    "axes = plt.gca()\n",
    "axes.set_xlim([0,20])\n",
    "plt.xticks(range(21))\n",
    "plt.xlabel('Cycles btw. 1st and 2nd donations')\n",
    "whole_lapse_1_2.hist(bins=180)\n",
    "\n",
    "# Histogram for time lapse between donations after second donation\n",
    "plt.subplot(133)\n",
    "axes = plt.gca()\n",
    "axes.set_xlim([0,20])\n",
    "plt.xticks(range(21))\n",
    "plt.xlabel('Cycles btw. Donations after 2nd')\n",
    "whole_lapse_gt_2.hist(bins=180)"
   ]
  },
  {
   "cell_type": "code",
   "execution_count": 24,
   "metadata": {
    "collapsed": false
   },
   "outputs": [],
   "source": [
    "# Donors that donate again in 56 days\n",
    "abn_donors_id = whole_data_with_lapse[(whole_data_with_lapse.lag_in_days < 56) & \n",
    "                                      (whole_data_with_lapse.lag_in_days != 0)\n",
    "                                     ][['arc_id']]\n",
    "abn_donors_df = pd.merge(abn_donors_id, whole_data_with_lapse, left_on='arc_id', right_on='arc_id')"
   ]
  },
  {
   "cell_type": "code",
   "execution_count": 25,
   "metadata": {
    "collapsed": false
   },
   "outputs": [
    {
     "data": {
      "text/html": [
       "<div>\n",
       "<table border=\"1\" class=\"dataframe\">\n",
       "  <thead>\n",
       "    <tr style=\"text-align: right;\">\n",
       "      <th></th>\n",
       "      <th>arc_id</th>\n",
       "      <th>donation_type</th>\n",
       "      <th>donation_dt</th>\n",
       "      <th>donation_ind</th>\n",
       "      <th>donate_times</th>\n",
       "      <th>lag_in_days</th>\n",
       "      <th>age_at_donation</th>\n",
       "    </tr>\n",
       "  </thead>\n",
       "  <tbody>\n",
       "    <tr>\n",
       "      <th>0</th>\n",
       "      <td>555619</td>\n",
       "      <td>Whole blood</td>\n",
       "      <td>2007-11-03</td>\n",
       "      <td>1</td>\n",
       "      <td>1.0</td>\n",
       "      <td>0.0</td>\n",
       "      <td>16.347945</td>\n",
       "    </tr>\n",
       "    <tr>\n",
       "      <th>1</th>\n",
       "      <td>555619</td>\n",
       "      <td>Whole blood</td>\n",
       "      <td>2008-10-16</td>\n",
       "      <td>1</td>\n",
       "      <td>2.0</td>\n",
       "      <td>348.0</td>\n",
       "      <td>17.301370</td>\n",
       "    </tr>\n",
       "    <tr>\n",
       "      <th>2</th>\n",
       "      <td>555619</td>\n",
       "      <td>Whole blood</td>\n",
       "      <td>2009-02-20</td>\n",
       "      <td>1</td>\n",
       "      <td>3.0</td>\n",
       "      <td>127.0</td>\n",
       "      <td>17.649315</td>\n",
       "    </tr>\n",
       "    <tr>\n",
       "      <th>3</th>\n",
       "      <td>555619</td>\n",
       "      <td>Whole blood</td>\n",
       "      <td>2010-05-03</td>\n",
       "      <td>1</td>\n",
       "      <td>4.0</td>\n",
       "      <td>437.0</td>\n",
       "      <td>18.846575</td>\n",
       "    </tr>\n",
       "    <tr>\n",
       "      <th>4</th>\n",
       "      <td>555619</td>\n",
       "      <td>Whole blood</td>\n",
       "      <td>2010-09-08</td>\n",
       "      <td>1</td>\n",
       "      <td>5.0</td>\n",
       "      <td>128.0</td>\n",
       "      <td>19.197260</td>\n",
       "    </tr>\n",
       "    <tr>\n",
       "      <th>5</th>\n",
       "      <td>555619</td>\n",
       "      <td>Whole blood</td>\n",
       "      <td>2010-09-27</td>\n",
       "      <td>1</td>\n",
       "      <td>6.0</td>\n",
       "      <td>19.0</td>\n",
       "      <td>19.249315</td>\n",
       "    </tr>\n",
       "    <tr>\n",
       "      <th>6</th>\n",
       "      <td>555619</td>\n",
       "      <td>Whole blood</td>\n",
       "      <td>2011-01-26</td>\n",
       "      <td>1</td>\n",
       "      <td>7.0</td>\n",
       "      <td>121.0</td>\n",
       "      <td>19.580822</td>\n",
       "    </tr>\n",
       "    <tr>\n",
       "      <th>7</th>\n",
       "      <td>555619</td>\n",
       "      <td>Whole blood</td>\n",
       "      <td>2013-02-06</td>\n",
       "      <td>1</td>\n",
       "      <td>8.0</td>\n",
       "      <td>742.0</td>\n",
       "      <td>21.613699</td>\n",
       "    </tr>\n",
       "  </tbody>\n",
       "</table>\n",
       "</div>"
      ],
      "text/plain": [
       "   arc_id donation_type donation_dt  donation_ind  donate_times  lag_in_days  \\\n",
       "0  555619   Whole blood  2007-11-03             1           1.0          0.0   \n",
       "1  555619   Whole blood  2008-10-16             1           2.0        348.0   \n",
       "2  555619   Whole blood  2009-02-20             1           3.0        127.0   \n",
       "3  555619   Whole blood  2010-05-03             1           4.0        437.0   \n",
       "4  555619   Whole blood  2010-09-08             1           5.0        128.0   \n",
       "5  555619   Whole blood  2010-09-27             1           6.0         19.0   \n",
       "6  555619   Whole blood  2011-01-26             1           7.0        121.0   \n",
       "7  555619   Whole blood  2013-02-06             1           8.0        742.0   \n",
       "\n",
       "   age_at_donation  \n",
       "0        16.347945  \n",
       "1        17.301370  \n",
       "2        17.649315  \n",
       "3        18.846575  \n",
       "4        19.197260  \n",
       "5        19.249315  \n",
       "6        19.580822  \n",
       "7        21.613699  "
      ]
     },
     "execution_count": 25,
     "metadata": {},
     "output_type": "execute_result"
    }
   ],
   "source": [
    "abn_donors_df[['arc_id', 'donation_type','donation_dt', \n",
    "               'donation_ind','donate_times', 'lag_in_days', 'age_at_donation']].head(8)"
   ]
  },
  {
   "cell_type": "code",
   "execution_count": null,
   "metadata": {
    "collapsed": false
   },
   "outputs": [],
   "source": []
  },
  {
   "cell_type": "code",
   "execution_count": null,
   "metadata": {
    "collapsed": true
   },
   "outputs": [],
   "source": []
  }
 ],
 "metadata": {
  "anaconda-cloud": {},
  "kernelspec": {
   "display_name": "Python [conda env:arc-capstone]",
   "language": "python",
   "name": "conda-env-arc-capstone-py"
  },
  "language_info": {
   "codemirror_mode": {
    "name": "ipython",
    "version": 3
   },
   "file_extension": ".py",
   "mimetype": "text/x-python",
   "name": "python",
   "nbconvert_exporter": "python",
   "pygments_lexer": "ipython3",
   "version": "3.5.2"
  }
 },
 "nbformat": 4,
 "nbformat_minor": 0
}
