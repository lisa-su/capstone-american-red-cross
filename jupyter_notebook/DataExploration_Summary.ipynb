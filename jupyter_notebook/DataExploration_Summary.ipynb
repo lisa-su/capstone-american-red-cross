{
 "cells": [
  {
   "cell_type": "code",
   "execution_count": 1,
   "metadata": {
    "collapsed": false
   },
   "outputs": [],
   "source": [
    "import pandas as pd\n",
    "import matplotlib.pyplot as plt\n",
    "from datetime import datetime\n",
    "from dateutil.relativedelta import relativedelta\n",
    "%matplotlib inline  "
   ]
  },
  {
   "cell_type": "code",
   "execution_count": 17,
   "metadata": {
    "collapsed": true
   },
   "outputs": [],
   "source": [
    "def calc_donation_lapse(df):\n",
    "\n",
    "    df_sort = df.sort_values(by=['arc_id', 'donation_dt'])\n",
    "    \n",
    "    last_arc_id = None\n",
    "    donate_times = 1\n",
    "    last_date = None\n",
    "\n",
    "    dt_format = '%Y-%m-%d'\n",
    "    for i, row in df_sort.iterrows():\n",
    "        this_arc_id = row['arc_id']\n",
    "        this_dt = datetime.strptime(row['donation_dt'], dt_format)\n",
    "        df_sort.set_value(i, 'repeat_donor_ind', if_repeat_donor(df_sort, this_arc_id))\n",
    "        \n",
    "        if this_arc_id != last_arc_id:\n",
    "            donate_times = 1\n",
    "            df_sort.set_value(i, 'donate_times', donate_times)\n",
    "            df_sort.set_value(i, 'lag_in_days', 0)\n",
    "\n",
    "        else:\n",
    "            donate_times += 1\n",
    "            df_sort.set_value(i, 'donate_times', donate_times)\n",
    "            df_sort.set_value(i, 'lag_in_days', (this_dt - last_dt).days)\n",
    "\n",
    "        last_arc_id = this_arc_id\n",
    "        last_dt = this_dt\n",
    "        \n",
    "    return df_sort"
   ]
  },
  {
   "cell_type": "code",
   "execution_count": 3,
   "metadata": {
    "collapsed": true
   },
   "outputs": [],
   "source": [
    "def cal_age(df):\n",
    "    df_sort = df.sort_values(by=['arc_id', 'donation_dt'])\n",
    "    \n",
    "    last_arc_id = None\n",
    "    donate_times = 1\n",
    "    last_date = None\n",
    "    fst_donation_age = None\n",
    "\n",
    "    birth_dt_format = '%Y/%m/%d'\n",
    "    donate_dt_format = '%Y-%m-%d'\n",
    "    for i, row in df_sort.iterrows():\n",
    "        if not row['birth_dt'] or type(row['birth_dt']) != str:\n",
    "            continue\n",
    "            \n",
    "        this_arc_id = row['arc_id']\n",
    "        this_dt = datetime.strptime(row['donation_dt'], donate_dt_format)\n",
    "        this_birth_dt = datetime.strptime(row['birth_dt'], birth_dt_format)\n",
    "        this_age = relativedelta(this_dt, this_birth_dt).years\n",
    "\n",
    "        if this_arc_id != last_arc_id:\n",
    "            df_sort.set_value(i, 'fst_donation_age', this_age)\n",
    "            df_sort.set_value(i, 'fst_donation_age_cat', age_categorization(this_age))\n",
    "            df_sort.set_value(i, 'age_at_donation', this_age)\n",
    "            df_sort.set_value(i, 'age_at_donation_cat', age_categorization(this_age))\n",
    "            fst_donation_age = this_age\n",
    "\n",
    "        else:\n",
    "            if row['first_donat_ind'] == 0:\n",
    "                df_sort.set_value(i, 'fst_donation_age', fst_donation_age)\n",
    "                df_sort.set_value(i, 'fst_donation_age_cat', age_categorization(fst_donation_age))\n",
    "                df_sort.set_value(i, 'age_at_donation', this_age)\n",
    "                df_sort.set_value(i, 'age_at_donation_cat', age_categorization(this_age))\n",
    "            else:\n",
    "                df_sort.set_value(i, 'fst_donation_age', this_age)\n",
    "                df_sort.set_value(i, 'fst_donation_age_cat', age_categorization(this_age))\n",
    "                df_sort.set_value(i, 'age_at_donation', this_age)\n",
    "                df_sort.set_value(i, 'age_at_donation_cat', age_categorization(this_age))\n",
    "\n",
    "        last_arc_id = this_arc_id\n",
    "        last_dt = this_dt\n",
    "        \n",
    "    return df_sort"
   ]
  },
  {
   "cell_type": "code",
   "execution_count": 4,
   "metadata": {
    "collapsed": true
   },
   "outputs": [],
   "source": [
    "def age_categorization(age):\n",
    "    if age < 18:\n",
    "        category = '<18'\n",
    "    elif age >= 18 and age <=22:\n",
    "        category = '18-22'\n",
    "    elif age > 22 and age <=30:\n",
    "        category = '23-30'\n",
    "    elif age > 30 and age <=35:\n",
    "        category = '31-35'\n",
    "    elif age > 35:\n",
    "        category = '>35'\n",
    "    return category"
   ]
  },
  {
   "cell_type": "code",
   "execution_count": 5,
   "metadata": {
    "collapsed": true
   },
   "outputs": [],
   "source": [
    "def if_repeat_donor(data, arc_id):\n",
    "    assert type(data) == pd.DataFrame\n",
    "    if len(data[data.arc_id == arc_id]) > 1:\n",
    "        return 1\n",
    "    else:\n",
    "        return 0"
   ]
  },
  {
   "cell_type": "markdown",
   "metadata": {
    "collapsed": true
   },
   "source": [
    "Import the dataset"
   ]
  },
  {
   "cell_type": "code",
   "execution_count": 6,
   "metadata": {
    "collapsed": false
   },
   "outputs": [],
   "source": [
    "# Directory and file names\n",
    "pname = '/home/data/RedCross/'\n",
    "fname1 = 'donor_summary912016.csv'\n",
    "data1 = pd.read_csv(pname+fname1)"
   ]
  },
  {
   "cell_type": "code",
   "execution_count": 7,
   "metadata": {
    "collapsed": true
   },
   "outputs": [],
   "source": [
    "fname2 = 'state13.csv'\n",
    "data2 = pd.read_csv(pname+fname2, encoding='latin-1')"
   ]
  },
  {
   "cell_type": "code",
   "execution_count": 8,
   "metadata": {
    "collapsed": true
   },
   "outputs": [],
   "source": [
    "data = pd.DataFrame.merge(data2, data1, how='left', on='arc_id')"
   ]
  },
  {
   "cell_type": "code",
   "execution_count": 9,
   "metadata": {
    "collapsed": false
   },
   "outputs": [
    {
     "data": {
      "text/plain": [
       "(2065563, 127)"
      ]
     },
     "execution_count": 9,
     "metadata": {},
     "output_type": "execute_result"
    }
   ],
   "source": [
    "data.shape"
   ]
  },
  {
   "cell_type": "code",
   "execution_count": 10,
   "metadata": {
    "collapsed": true
   },
   "outputs": [],
   "source": [
    "c_names = data.columns"
   ]
  },
  {
   "cell_type": "code",
   "execution_count": 11,
   "metadata": {
    "collapsed": false
   },
   "outputs": [],
   "source": [
    "missing_val_cnt = pd.Series(data=[data.shape[0]-data[c].dropna().shape[0] for c in c_names], index=c_names, dtype=int)\n",
    "missing_val_pct = pd.Series(data=[(data.shape[0]-data[c].dropna().shape[0])/data.shape[0] for c in c_names], index=c_names)"
   ]
  },
  {
   "cell_type": "code",
   "execution_count": 12,
   "metadata": {
    "collapsed": false
   },
   "outputs": [],
   "source": [
    "missing_val_stats = pd.DataFrame([missing_val_cnt, missing_val_pct], index=['count', 'percentage']).transpose()"
   ]
  },
  {
   "cell_type": "code",
   "execution_count": 13,
   "metadata": {
    "collapsed": false
   },
   "outputs": [],
   "source": [
    "missing_val_stats.sort_values(by='percentage', ascending=False).to_csv('/home/ysu7/data/missing_val_stats_stats13_summary.csv')"
   ]
  },
  {
   "cell_type": "code",
   "execution_count": null,
   "metadata": {
    "collapsed": false
   },
   "outputs": [],
   "source": [
    "# columns that has less than 50% missing values\n",
    "missing_val_stats[missing_val_stats['percentage']<0.7]"
   ]
  },
  {
   "cell_type": "code",
   "execution_count": 14,
   "metadata": {
    "collapsed": false
   },
   "outputs": [
    {
     "data": {
      "text/html": [
       "<div>\n",
       "<table border=\"1\" class=\"dataframe\">\n",
       "  <thead>\n",
       "    <tr style=\"text-align: right;\">\n",
       "      <th></th>\n",
       "      <th>donation_type</th>\n",
       "    </tr>\n",
       "  </thead>\n",
       "  <tbody>\n",
       "    <tr>\n",
       "      <th>0</th>\n",
       "      <td>Whole Blood</td>\n",
       "    </tr>\n",
       "    <tr>\n",
       "      <th>42</th>\n",
       "      <td>Plateletpheresis</td>\n",
       "    </tr>\n",
       "    <tr>\n",
       "      <th>56</th>\n",
       "      <td>Red Cell Apheresis</td>\n",
       "    </tr>\n",
       "    <tr>\n",
       "      <th>19649</th>\n",
       "      <td>Plasmapheresis</td>\n",
       "    </tr>\n",
       "  </tbody>\n",
       "</table>\n",
       "</div>"
      ],
      "text/plain": [
       "            donation_type\n",
       "0             Whole Blood\n",
       "42       Plateletpheresis\n",
       "56     Red Cell Apheresis\n",
       "19649      Plasmapheresis"
      ]
     },
     "execution_count": 14,
     "metadata": {},
     "output_type": "execute_result"
    }
   ],
   "source": [
    "data[['donation_type']].drop_duplicates()"
   ]
  },
  {
   "cell_type": "code",
   "execution_count": 15,
   "metadata": {
    "collapsed": false
   },
   "outputs": [],
   "source": [
    "data = cal_age(data)"
   ]
  },
  {
   "cell_type": "code",
   "execution_count": null,
   "metadata": {
    "collapsed": false
   },
   "outputs": [],
   "source": [
    "data[data.deferral_ind == 1].head()"
   ]
  },
  {
   "cell_type": "code",
   "execution_count": null,
   "metadata": {
    "collapsed": false
   },
   "outputs": [],
   "source": [
    "data_with_lapse = calc_donation_lapse(data)"
   ]
  },
  {
   "cell_type": "code",
   "execution_count": null,
   "metadata": {
    "collapsed": false
   },
   "outputs": [],
   "source": [
    "data_with_lapse[['arc_id', 'donation_dt', 'fst_donation_age', 'fst_donation_age_cat',\n",
    "                 'age_at_donation', 'age_at_donation', 'repeat_donor_ind',\n",
    "                 'donate_times', 'lag_in_days']].head(10)"
   ]
  },
  {
   "cell_type": "code",
   "execution_count": null,
   "metadata": {
    "collapsed": false
   },
   "outputs": [],
   "source": [
    "lapse_all = pd.Series(map(lambda x: x/365, data_with_lapse[(data_with_lapse['lag_in_days'] != 0) & \n",
    "                                                           (data_with_lapse['donation_ind'] == 1)]['lag_in_days']))"
   ]
  },
  {
   "cell_type": "code",
   "execution_count": null,
   "metadata": {
    "collapsed": false
   },
   "outputs": [],
   "source": [
    "# Histogram for all time differece between donations\n",
    "axes = plt.gca()\n",
    "axes.set_xlim([0,10])\n",
    "plt.xticks([v*0.5 for v in range(0,21)])\n",
    "plt.title('Time Diff. Between Donations')\n",
    "plt.ylabel('Counts')\n",
    "plt.xlabel('Years')\n",
    "lapse_all.hist(bins=300)"
   ]
  },
  {
   "cell_type": "code",
   "execution_count": null,
   "metadata": {
    "collapsed": false
   },
   "outputs": [],
   "source": [
    "lapse_1_2 = pd.Series(map(lambda x: x/365, data_with_lapse[(data_with_lapse['donate_times']==2) & \n",
    "                                                           (data_with_lapse['donation_ind'] == 1)]['lag_in_days']))"
   ]
  },
  {
   "cell_type": "code",
   "execution_count": null,
   "metadata": {
    "collapsed": false
   },
   "outputs": [],
   "source": [
    "# Histogram for all time differece between first and second donations\n",
    "axes = plt.gca();\n",
    "axes.set_xlim([0,10]);\n",
    "plt.xticks([v*0.5 for v in range(0,21)])\n",
    "plt.title('Time Diff. Between 1st & 2nd Donations')\n",
    "plt.ylabel('Counts')\n",
    "plt.xlabel('Years')\n",
    "lapse_1_2.hist(bins=300)"
   ]
  },
  {
   "cell_type": "code",
   "execution_count": null,
   "metadata": {
    "collapsed": true
   },
   "outputs": [],
   "source": []
  },
  {
   "cell_type": "markdown",
   "metadata": {},
   "source": [
    "By the histograms, we can assume that it has higher possibility to retain the donors if they came back to donate within 1 year."
   ]
  },
  {
   "cell_type": "markdown",
   "metadata": {},
   "source": [
    "----------------------------"
   ]
  },
  {
   "cell_type": "markdown",
   "metadata": {},
   "source": [
    "# Whole Blood Donors"
   ]
  },
  {
   "cell_type": "code",
   "execution_count": null,
   "metadata": {
    "collapsed": false
   },
   "outputs": [],
   "source": [
    "whole_data = data[data['donation_type'] == 'Whole Blood']"
   ]
  },
  {
   "cell_type": "code",
   "execution_count": null,
   "metadata": {
    "collapsed": false,
    "scrolled": false
   },
   "outputs": [],
   "source": [
    "whole_data_with_lapse = calc_donation_lapse(whole_data)"
   ]
  },
  {
   "cell_type": "code",
   "execution_count": null,
   "metadata": {
    "collapsed": false
   },
   "outputs": [],
   "source": [
    "whole_lapse = pd.Series(map(lambda x: x/56, \n",
    "                            whole_data_with_lapse[(whole_data_with_lapse['lag_in_days']!=0) & \n",
    "                                                  (data_with_lapse['donation_ind'] == 1)]['lag_in_days']))"
   ]
  },
  {
   "cell_type": "code",
   "execution_count": null,
   "metadata": {
    "collapsed": false
   },
   "outputs": [],
   "source": [
    "whole_lapse_1_2 = pd.Series(map(lambda x: x/56, \n",
    "                                whole_data_with_lapse[(whole_data_with_lapse['donate_times']==2) &\n",
    "                                                      (data_with_lapse['donation_ind'] == 1)]['lag_in_days']))"
   ]
  },
  {
   "cell_type": "code",
   "execution_count": null,
   "metadata": {
    "collapsed": true
   },
   "outputs": [],
   "source": [
    "whole_lapse_gt_2 = pd.Series(map(lambda x: x/56, \n",
    "                                 whole_data_with_lapse[(whole_data_with_lapse['donate_times']>=2) &\n",
    "                                                       (data_with_lapse['donation_ind'] == 1)]['lag_in_days']))"
   ]
  },
  {
   "cell_type": "code",
   "execution_count": null,
   "metadata": {
    "collapsed": false
   },
   "outputs": [],
   "source": [
    "# Histogram for time lapse between donations\n",
    "plt.figure(1, figsize=(15, 5))\n",
    "plt.subplot(131)\n",
    "axes = plt.gca()\n",
    "axes.set_xlim([0,20])\n",
    "plt.xticks(range(21))\n",
    "plt.ylabel('Counts')\n",
    "plt.xlabel('Cycles(56 days/cycle)')\n",
    "whole_lapse.hist(bins=180)\n",
    "\n",
    "# Histogram for time lapse between 1st and 2nd donations\n",
    "plt.subplot(132)\n",
    "axes = plt.gca()\n",
    "axes.set_xlim([0,20])\n",
    "plt.xticks(range(21))\n",
    "plt.xlabel('Cycles btw. 1st and 2nd donations')\n",
    "whole_lapse_1_2.hist(bins=180)\n",
    "\n",
    "# Histogram for time lapse between donations after second donation\n",
    "plt.subplot(133)\n",
    "axes = plt.gca()\n",
    "axes.set_xlim([0,20])\n",
    "plt.xticks(range(21))\n",
    "plt.xlabel('Cycles btw. Donations after 2nd')\n",
    "whole_lapse_gt_2.hist(bins=180)"
   ]
  },
  {
   "cell_type": "code",
   "execution_count": null,
   "metadata": {
    "collapsed": false
   },
   "outputs": [],
   "source": [
    "# Donors that donate again in 56 days\n",
    "abn_donors_id = whole_data_with_lapse[(whole_data_with_lapse.lag_in_days < 56) & \n",
    "                                      (whole_data_with_lapse.lag_in_days != 0)\n",
    "                                     ]['arc_id']\n",
    "abn_donors_df = data_with_lapse[data_with_lapse['arc_id'].isin(abn_donors_id)]"
   ]
  },
  {
   "cell_type": "code",
   "execution_count": null,
   "metadata": {
    "collapsed": false
   },
   "outputs": [],
   "source": [
    "len(abn_donors_id)"
   ]
  },
  {
   "cell_type": "code",
   "execution_count": null,
   "metadata": {
    "collapsed": false
   },
   "outputs": [],
   "source": [
    "abn_donors_df[['arc_id', 'donation_type','donation_dt', 'first_donat_ind', 'deferral_ind',\n",
    "               'donation_ind','donate_times', 'lag_in_days', 'age_at_donation']].head(8)"
   ]
  },
  {
   "cell_type": "code",
   "execution_count": null,
   "metadata": {
    "collapsed": false
   },
   "outputs": [],
   "source": []
  },
  {
   "cell_type": "code",
   "execution_count": null,
   "metadata": {
    "collapsed": true
   },
   "outputs": [],
   "source": []
  }
 ],
 "metadata": {
  "anaconda-cloud": {},
  "kernelspec": {
   "display_name": "Python 3",
   "language": "python",
   "name": "python3"
  },
  "language_info": {
   "codemirror_mode": {
    "name": "ipython",
    "version": 3
   },
   "file_extension": ".py",
   "mimetype": "text/x-python",
   "name": "python",
   "nbconvert_exporter": "python",
   "pygments_lexer": "ipython3",
   "version": "3.4.3"
  }
 },
 "nbformat": 4,
 "nbformat_minor": 0
}
